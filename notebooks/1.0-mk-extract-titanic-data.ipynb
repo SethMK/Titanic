{
 "metadata": {
  "language_info": {
   "codemirror_mode": {
    "name": "ipython",
    "version": 3
   },
   "file_extension": ".py",
   "mimetype": "text/x-python",
   "name": "python",
   "nbconvert_exporter": "python",
   "pygments_lexer": "ipython3",
   "version": "3.8.10"
  },
  "orig_nbformat": 4,
  "kernelspec": {
   "name": "python3",
   "display_name": "Python 3.8.10 64-bit ('minimal_ds': conda)"
  },
  "interpreter": {
   "hash": "1571adf600a8294db04b6515b83b86faee4b68ab052853d158af18a3e1946141"
  }
 },
 "nbformat": 4,
 "nbformat_minor": 2,
 "cells": [
  {
   "source": [
    "## Extracting Titanic Disaster Data From Kaggle"
   ],
   "cell_type": "markdown",
   "metadata": {}
  },
  {
   "cell_type": "code",
   "execution_count": 4,
   "metadata": {},
   "outputs": [
    {
     "output_type": "stream",
     "name": "stdout",
     "text": [
      "Collecting python-dotenv\n",
      "  Downloading python_dotenv-0.17.1-py2.py3-none-any.whl (18 kB)\n",
      "Installing collected packages: python-dotenv\n",
      "Successfully installed python-dotenv-0.17.1\n"
     ]
    }
   ],
   "source": [
    "!pip install python-dotenv"
   ]
  },
  {
   "cell_type": "code",
   "execution_count": 5,
   "metadata": {},
   "outputs": [],
   "source": [
    "from dotenv import load_dotenv, find_dotenv"
   ]
  },
  {
   "cell_type": "code",
   "execution_count": 19,
   "metadata": {},
   "outputs": [
    {
     "output_type": "execute_result",
     "data": {
      "text/plain": [
       "True"
      ]
     },
     "metadata": {},
     "execution_count": 19
    }
   ],
   "source": [
    "# find .env automatically by walking up directories until it's found\n",
    "dotenv_path = find_dotenv()\n",
    "# load up the entries as environment variables\n",
    "load_dotenv(dotenv_path)"
   ]
  },
  {
   "cell_type": "code",
   "execution_count": 13,
   "metadata": {},
   "outputs": [],
   "source": [
    "# file paths\n",
    "raw_data_path = os.path.join(os.path.pardir, 'data', 'raw')\n",
    "train_data_path = os.path.join(raw_data_path, 'train.csv')\n",
    "test_data_path = os.path.join(raw_data_path, 'test.csv')"
   ]
  },
  {
   "cell_type": "code",
   "execution_count": 27,
   "metadata": {},
   "outputs": [
    {
     "output_type": "stream",
     "name": "stdout",
     "text": [
      "Downloading train.csv to ../data/raw\n",
      "  0%|                                               | 0.00/59.8k [00:00<?, ?B/s]\n",
      "100%|██████████████████████████████████████| 59.8k/59.8k [00:00<00:00, 6.81MB/s]\n",
      "Downloading test.csv to ../data/raw\n",
      "  0%|                                               | 0.00/28.0k [00:00<?, ?B/s]\n",
      "100%|██████████████████████████████████████| 28.0k/28.0k [00:00<00:00, 4.27MB/s]\n"
     ]
    }
   ],
   "source": [
    "!kaggle competitions download -c titanic -p ../data/raw -f train.csv\n",
    "!kaggle competitions download -c titanic -p ../data/raw -f test.csv"
   ]
  },
  {
   "source": [
    "### Building the file script"
   ],
   "cell_type": "markdown",
   "metadata": {}
  },
  {
   "cell_type": "code",
   "execution_count": 22,
   "metadata": {},
   "outputs": [],
   "source": [
    "get_raw_data_script_file = os.path.join(os.path.pardir, 'src', 'data', 'get_raw_data.py')"
   ]
  },
  {
   "cell_type": "code",
   "execution_count": 43,
   "metadata": {},
   "outputs": [
    {
     "output_type": "stream",
     "name": "stdout",
     "text": [
      "Overwriting ../src/data/get_raw_data.py\n"
     ]
    }
   ],
   "source": [
    "%%writefile $get_raw_data_script_file\n",
    "import os\n",
    "import logging\n",
    "\n",
    "def extract_data(file_path, file_name):\n",
    "    '''\n",
    "    method to pull files\n",
    "    '''\n",
    "    os.system(\"kaggle competitions download -c titanic -p {} -f {}\".format(file_path, file_name))\n",
    "\n",
    "def main():\n",
    "    '''\n",
    "    main method\n",
    "    '''\n",
    "\n",
    "    # get logger\n",
    "    logger = logging.getLogger(__name__)\n",
    "    logger.info('getting raw data')\n",
    "\n",
    "    # file_paths\n",
    "    file_path = '../data/raw'\n",
    "\n",
    "    # file names\n",
    "    train = 'train.csv'\n",
    "    test = 'test.csv'\n",
    "\n",
    "    extract_data(file_path, train)\n",
    "    extract_data(file_path, test)\n",
    "    logger.info('downloaded raw training and test data')\n",
    "\n",
    "if __name__ == '__main__':\n",
    "    # setup logger\n",
    "    log_fmt = '%(asctime)s - %(name)s - %(levelname)s - %(message)s'\n",
    "    logging.basicConfig(level=logging.INFO, format=log_fmt)\n",
    "\n",
    "    #call the main\n",
    "    main()\n",
    "\n"
   ]
  },
  {
   "cell_type": "code",
   "execution_count": 44,
   "metadata": {},
   "outputs": [
    {
     "output_type": "stream",
     "name": "stdout",
     "text": [
      "2021-06-17 12:56:40,247 - __main__ - INFO - getting raw data\n",
      "Downloading train.csv to ../data/raw\n",
      "  0%|                                               | 0.00/59.8k [00:00<?, ?B/s]\n",
      "100%|██████████████████████████████████████| 59.8k/59.8k [00:00<00:00, 7.16MB/s]\n",
      "Downloading test.csv to ../data/raw\n",
      "  0%|                                               | 0.00/28.0k [00:00<?, ?B/s]\n",
      "100%|██████████████████████████████████████| 28.0k/28.0k [00:00<00:00, 4.22MB/s]\n",
      "2021-06-17 12:56:42,073 - __main__ - INFO - downloaded raw training and test data\n"
     ]
    }
   ],
   "source": [
    "!python $get_raw_data_script_file"
   ]
  },
  {
   "cell_type": "code",
   "execution_count": null,
   "metadata": {},
   "outputs": [],
   "source": []
  }
 ]
}